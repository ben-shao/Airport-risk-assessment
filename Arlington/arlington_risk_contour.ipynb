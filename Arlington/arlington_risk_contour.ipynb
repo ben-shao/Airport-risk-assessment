{
  "nbformat": 4,
  "nbformat_minor": 0,
  "metadata": {
    "colab": {
      "name": "arlington_risk_contour.ipynb",
      "provenance": [],
      "collapsed_sections": []
    },
    "kernelspec": {
      "name": "python3",
      "display_name": "Python 3"
    },
    "language_info": {
      "name": "python"
    }
  },
  "cells": [
    {
      "cell_type": "code",
      "source": [
        "# ~~~~~~~~~~~~~~~~~~~~~~~~~~~~~~~~~~~~~~~~~~~~~~~~~~~~~~~~~~~~~~~~~~~~~~~~~~~~~~\n",
        "# Aircraft Crash Risk \n",
        "# Individual Fatality & Crash Rate Airport Risk Assessment Framework\n",
        "#\n",
        "# Referenced from Byrne 1997 methodology (https://www.hse.gov.uk/research/crr_pdf/1997/crr97150.pdf)\n",
        "# Adapted by Karen Barns, Ben Shao, and Mike Mieler in 2020; UAV drone addendum by Jimmy Zhang in 2022\n",
        "# ~~~~~~~~~~~~~~~~~~~~~~~~~~~~~~~~~~~~~~~~~~~~~~~~~~~~~~~~~~~~~~~~~~~~~~~~~~~~~~\n",
        "# Jimmy-Y.Zhang@arup.com\n",
        "# August 9th, 2022"
      ],
      "metadata": {
        "id": "zgH9mNMlyqpO"
      },
      "execution_count": 1,
      "outputs": []
    },
    {
      "cell_type": "code",
      "execution_count": 2,
      "metadata": {
        "colab": {
          "base_uri": "https://localhost:8080/"
        },
        "id": "k_CAUeF14ZF9",
        "outputId": "8eba130b-6a1e-4f8d-9f05-9d136c65426b"
      },
      "outputs": [
        {
          "output_type": "stream",
          "name": "stdout",
          "text": [
            "Mounted at /content/drive/\n"
          ]
        }
      ],
      "source": [
        "# Mounting Directory; Ignore in Jupyter/VS Environment, only applicable for Colab Environment\n",
        "from google.colab import drive\n",
        "drive.mount('/content/drive/')"
      ]
    },
    {
      "cell_type": "code",
      "source": [
        "# Libraries\n",
        "!pip install geopandas\n",
        "import geopandas\n",
        "import numpy\n",
        "import csv\n",
        "import math\n",
        "from shapely.geometry import Point, LineString\n",
        "import matplotlib.pyplot as plt\n",
        "import matplotlib.colors as colors\n",
        "from matplotlib.ticker import MaxNLocator\n",
        "from matplotlib import ticker, cm\n",
        "import numpy as np\n",
        "from numpy import ma\n",
        "import os\n",
        "import os.path\n",
        "from os import path\n",
        "from scipy.ndimage.interpolation import rotate\n",
        "from scipy.ndimage.interpolation import shift"
      ],
      "metadata": {
        "colab": {
          "base_uri": "https://localhost:8080/"
        },
        "id": "zCtgRJ0J4yb3",
        "outputId": "1783f9ba-bf8e-4790-8ece-6e136327ea7b"
      },
      "execution_count": 3,
      "outputs": [
        {
          "output_type": "stream",
          "name": "stdout",
          "text": [
            "Looking in indexes: https://pypi.org/simple, https://us-python.pkg.dev/colab-wheels/public/simple/\n",
            "Collecting geopandas\n",
            "  Downloading geopandas-0.10.2-py2.py3-none-any.whl (1.0 MB)\n",
            "\u001b[K     |████████████████████████████████| 1.0 MB 21.0 MB/s \n",
            "\u001b[?25hCollecting pyproj>=2.2.0\n",
            "  Downloading pyproj-3.2.1-cp37-cp37m-manylinux2010_x86_64.whl (6.3 MB)\n",
            "\u001b[K     |████████████████████████████████| 6.3 MB 47.8 MB/s \n",
            "\u001b[?25hCollecting fiona>=1.8\n",
            "  Downloading Fiona-1.8.21-cp37-cp37m-manylinux2014_x86_64.whl (16.7 MB)\n",
            "\u001b[K     |████████████████████████████████| 16.7 MB 433 kB/s \n",
            "\u001b[?25hRequirement already satisfied: shapely>=1.6 in /usr/local/lib/python3.7/dist-packages (from geopandas) (1.8.2)\n",
            "Requirement already satisfied: pandas>=0.25.0 in /usr/local/lib/python3.7/dist-packages (from geopandas) (1.3.5)\n",
            "Requirement already satisfied: setuptools in /usr/local/lib/python3.7/dist-packages (from fiona>=1.8->geopandas) (57.4.0)\n",
            "Requirement already satisfied: click>=4.0 in /usr/local/lib/python3.7/dist-packages (from fiona>=1.8->geopandas) (7.1.2)\n",
            "Requirement already satisfied: attrs>=17 in /usr/local/lib/python3.7/dist-packages (from fiona>=1.8->geopandas) (22.1.0)\n",
            "Requirement already satisfied: certifi in /usr/local/lib/python3.7/dist-packages (from fiona>=1.8->geopandas) (2022.6.15)\n",
            "Requirement already satisfied: six>=1.7 in /usr/local/lib/python3.7/dist-packages (from fiona>=1.8->geopandas) (1.15.0)\n",
            "Collecting click-plugins>=1.0\n",
            "  Downloading click_plugins-1.1.1-py2.py3-none-any.whl (7.5 kB)\n",
            "Collecting munch\n",
            "  Downloading munch-2.5.0-py2.py3-none-any.whl (10 kB)\n",
            "Collecting cligj>=0.5\n",
            "  Downloading cligj-0.7.2-py3-none-any.whl (7.1 kB)\n",
            "Requirement already satisfied: python-dateutil>=2.7.3 in /usr/local/lib/python3.7/dist-packages (from pandas>=0.25.0->geopandas) (2.8.2)\n",
            "Requirement already satisfied: numpy>=1.17.3 in /usr/local/lib/python3.7/dist-packages (from pandas>=0.25.0->geopandas) (1.21.6)\n",
            "Requirement already satisfied: pytz>=2017.3 in /usr/local/lib/python3.7/dist-packages (from pandas>=0.25.0->geopandas) (2022.1)\n",
            "Installing collected packages: munch, cligj, click-plugins, pyproj, fiona, geopandas\n",
            "Successfully installed click-plugins-1.1.1 cligj-0.7.2 fiona-1.8.21 geopandas-0.10.2 munch-2.5.0 pyproj-3.2.1\n"
          ]
        }
      ]
    },
    {
      "cell_type": "markdown",
      "source": [
        "**USER INPUTS**"
      ],
      "metadata": {
        "id": "QVOUoFijEMLW"
      }
    },
    {
      "cell_type": "code",
      "source": [
        "## User Inputs\n",
        "# ~~~~~~~~~~~~~~~~~~~~~~~~~~~~~~~~~~~~~~~~~~~~~~~~~~~~~~~~~~~~~~~~~~~~~~~~~~~~~~~~~~~~~~~~~~~~~~~~~~~~~~~~~~~~~~~~~~~~~~~~~~~~~~~~~~~~~~~~~~~~~~~~~~~~~~~~~~~~~~~~~~~~~~~~~~~~~~~~~~~+\n",
        "# Output Settings\n",
        "DATA_PATH = '/content/drive/MyDrive/Airport Risk/Arlington/output/'             # This DATA_PATH needs to exist already, subsequent directory commands append to this existing path\n",
        "WRITE_FILE = True                                                               # Set to True to save .csv outputs of individual runway + combined runway and .png plots \n",
        "PLOT_ONLY = False                                                               # Only toggle True AFTER initial run; this allows for adjustments to final rotation/translation plot\n",
        "                                                                                # > Also allows to change plot title/legend/axis properties etc. without rerunning bulky calculations\n",
        "\n",
        "# Airport Name\n",
        "AirportID = 'Arlington Municipal Airport'\n",
        "\n",
        "# Data Center Area in square km (km^2)\n",
        "DC_area = 0.012                                                                 # Typical DC size 0.012\n",
        "\n",
        "# Runway specifics\n",
        "numrunways = 1\n",
        "runwaylength = [2446.203, 2446.203, 0]                                          # Distance in metersfor [first runway, second runway, ..., final runway]\n",
        "angles  = [0, 23, 0]                                                            # Angles with clockwise respect to first runway (first always 0 degrees)\n",
        "xoffset = [0, 600, 0]                                                           # x distance offset between first and n-th runway (to right, from centerpoint, first always 0 offset)\n",
        "yoffset = [0, 500, 0]                                                           # y distance offset between first and n-th runway (upwards,  from centerpoint, first always 0 offset)\n",
        "windSplits = np.array([[0.2, 0.8],[0.5, 0.5]])                                  # Wind split in each takeoff/landing direction (50/50 by default); refer to NOAA API by Jimmy-Y.Zhang@arup.com\n",
        "\n",
        "# Grid spacing in meters (m)\n",
        "contour_step = 35                                                               # Ticks/stepsize of meshgrid; start with large spacing (100m) to troubleshoot - small spacing (<20m) takes ~10min/runway\n",
        "\n",
        "# Movements, [first runway, second runway, ..., final runway]\n",
        "nm_ac = [20, 20]                                                                # air carrier movement (1 operation = landing + take-off = 2 movements)\n",
        "nm_r = [1000, 1000]                                                             # regional/transient \n",
        "nm_ga = [800, 800]                                                              # general aviation\n",
        "nm_m = [0, 0]                                                                   # military\n",
        "nm_d = [0,0]                                                                    # UAV/drone"
      ],
      "metadata": {
        "id": "EvBp4S7tgQ8T"
      },
      "execution_count": 55,
      "outputs": []
    },
    {
      "cell_type": "markdown",
      "source": [
        "**FUNCTIONS**"
      ],
      "metadata": {
        "id": "2W1EoT4qMMkK"
      }
    },
    {
      "cell_type": "code",
      "source": [
        "## Function to calculate extent of contour given geometry of runway(s)\n",
        "# ~~~~~~~~~~~~~~~~~~~~~~~~~~~~~~~~~~~~~~~~~~~~~~~~~~~~~~~~~~~~~~~~~~~~~~~~~~~~~~\n",
        "def contourExtent(runwaylength,contour_step,numrunways,angles):\n",
        "  init_mesh = np.zeros([round(max(runwaylength)*4/contour_step),round(max(runwaylength)*8/contour_step)])\n",
        "  init_shape = np.array([init_mesh.shape[0],init_mesh.shape[1]])\n",
        "\n",
        "  for i in range(1,numrunways):\n",
        "    rotate_mesh = rotate(init_mesh, angles[i], reshape=True)\n",
        "    init_shape = np.append(init_shape, np.array([rotate_mesh.shape[0],rotate_mesh.shape[1]]),axis = 0)\n",
        "\n",
        "  xlim = (max(init_shape.reshape(numrunways,2)[:,1])/2 + max(xoffset)/contour_step)*contour_step*2\n",
        "  ylim = (max(init_shape.reshape(numrunways,2)[:,0])/2 + max(yoffset)/contour_step)*contour_step*2\n",
        "\n",
        "  return xlim, ylim"
      ],
      "metadata": {
        "id": "MDjWNJBno0RE"
      },
      "execution_count": 56,
      "outputs": []
    },
    {
      "cell_type": "code",
      "source": [
        "## Function to check output folder directories\n",
        "# ~~~~~~~~~~~~~~~~~~~~~~~~~~~~~~~~~~~~~~~~~~~~~~~~~~~~~~~~~~~~~~~~~~~~~~~~~~~~~~\n",
        "def makeDir(index,DATA_PATH):\n",
        "  if path.exists(DATA_PATH + 'runway_' + str(index)) == False:\n",
        "    os.mkdir(DATA_PATH+ 'runway_' + str(index))\n",
        "\n",
        "  os.chdir(DATA_PATH+ 'runway_' + str(index))\n",
        "  !pwd\n",
        "  !ls"
      ],
      "metadata": {
        "id": "KbcDsRg2FApB"
      },
      "execution_count": 57,
      "outputs": []
    },
    {
      "cell_type": "code",
      "source": [
        "## Function to save output by Ben.Shao@arup.com\n",
        "# ~~~~~~~~~~~~~~~~~~~~~~~~~~~~~~~~~~~~~~~~~~~~~~~~~~~~~~~~~~~~~~~~~~~~~~~~~~~~~~\n",
        "def write2csv(data, units, filename, col_labels, row_labels):\n",
        "    with open(filename, 'w', newline='') as csvfile:                            \n",
        "        output = csv.writer(csvfile, delimiter=',')                             \n",
        "        output.writerow([units]+col_labels)                                     \n",
        "        for i,row in enumerate(data):                                           \n",
        "            try:\n",
        "                output.writerow([row_labels[i]] + list(row))                   \n",
        "            except:\n",
        "                output.writerow([row_labels[i]] + [row])  "
      ],
      "metadata": {
        "id": "LSIiYaHrCrJ7"
      },
      "execution_count": 58,
      "outputs": []
    },
    {
      "cell_type": "code",
      "source": [
        "## Function to calculate risk contour by Ben.Shao@arup.com and Mike.Miler@arup.com\n",
        "#\n",
        "#  Additional drone background crash risk calibrated by Jimmy-y.Zhang@arup.com from \n",
        "#  USAF AIB, Wikileaks War Logs, and various general/military press release\n",
        "#\n",
        "#  Additional drone individual fatality impact area taken from median value in \n",
        "#  Lin & Shao, 2020: https://arc.aiaa.org/doi/10.2514/1.I010795\n",
        "# ~~~~~~~~~~~~~~~~~~~~~~~~~~~~~~~~~~~~~~~~~~~~~~~~~~~~~~~~~~~~~~~~~~~~~~~~~~~~~~\n",
        "def calcRisk(nm_ac,nm_r,nm_ga,nm_m,nm_d,Splitduetowind,runwaylength,DC_area,Lgrid,xlim,ylim,WRITE_FILE,DATA_PATH,index):\n",
        "    \n",
        "  # movements\n",
        "  nm_tot = nm_ac + nm_r + nm_ga + nm_m\n",
        "\n",
        "  # crash rates per movement\n",
        "  cr_ac = 2.35e-7                                                               # number of air carrier crashes per movement\n",
        "  cr_r  = 1.65e-6                                                               # number of regional crashes per movement\n",
        "  cr_ga = 1.02e-5                                                               # number of general aviation crashes per movement\n",
        "  cr_m  = 1.80e-6                                                               # number of military crashes per movement\n",
        "\n",
        "  # background crash rates\n",
        "  bcr_ac = 1.31e-7                                                              # number of crashes per sq km\n",
        "  bcr_r  = 1.41e-6                                                                \n",
        "  bcr_ga = 2.87e-5                                                                \n",
        "  bcr_m  = 1.54e-6                                                                \n",
        "  bcr_h  = 1.47e-6\n",
        "  bcr_d  = 6.40e-7\n",
        "\n",
        "  # impact areas for each aircraft category (km2)\n",
        "  # assumes 100% lethality in this zone\n",
        "  # various sources, see summary of data spreadsheet\n",
        "  ia_ac = 2.98E-2\n",
        "  ia_r  = 5.52E-3\n",
        "  ia_ga = 5.52E-4\n",
        "  ia_m  = 1.33E-2\n",
        "  ia_h  = 5.52E-4\n",
        "  ia_d  = 6.51E-2    \n",
        "\n",
        "  xlist = list(range(int(-xlim/2),int(xlim/2),Lgrid))\n",
        "  #xlist = list(range(xlim,-3275-Lgrid,-1*Lgrid))\n",
        "  ylist = list(range(int(-ylim/2),int(ylim/2),Lgrid))\n",
        "  #ylist = list(range(int(-ylim),int(-1*Lgrid),int(Lgrid))) + list(range(int(2*Lgrid),int(ylim+Lgrid),int(Lgrid)))   # hacky way to remove grid points along the centerline \n",
        "  grid = geopandas.GeoDataFrame()  \n",
        "      \n",
        "  for scenario_id in range(0,2):\n",
        "      \n",
        "    nrows = len(xlist)\n",
        "    ncols = len(ylist)\n",
        "    \n",
        "    row = []\n",
        "    col = []\n",
        "    xvalue = []\n",
        "    yvalue = []\n",
        "    rvalue = []\n",
        "    tvalue = []\n",
        "\n",
        "    # Loop over each single grid points get x and y coordinate for calculation as well as r and angle for each scenario (right and left end of runway)\n",
        "    for i in range(nrows):\n",
        "        for j in range(ncols):\n",
        "            \n",
        "          row.append(i)\n",
        "          col.append(j)\n",
        "          xvalue.append(xlist[i])          # x coordinate for each grid point. Origin is the center of xlim defined\n",
        "          yvalue.append(ylist[j])          # y coordinate for each grid point. Origin is the center of ylim defined\n",
        "          \n",
        "          # Recalculte the x,y coordinate use for the equation. This is for the model of general aircraft as the coordinate is defined from the end of the run way\n",
        "          if scenario_id == 0:\n",
        "        \n",
        "            x_calc = xlist[i]-runwaylength/2\n",
        "  #          x_calc0 = xlist[i]\n",
        "            y_calc = ylist[j]                                           # Right side (larger coordinate side)\n",
        "    \n",
        "          elif scenario_id == 1:\n",
        "        \n",
        "            x_calc = -(xlist[i]+runwaylength/2)\n",
        "  #         x_calc0 = xlist[i]\n",
        "            y_calc = ylist[j]                                           # Left side (larger coordinate side)\n",
        "          \n",
        "          rvalue.append(math.sqrt(x_calc**2+y_calc**2))\n",
        "          angle = numpy.degrees(numpy.arctan2(abs(y_calc),abs(x_calc))) \n",
        "            \n",
        "          if x_calc > 0:\n",
        "              tvalue.append(angle)\n",
        "          else:\n",
        "              tvalue.append(180.0-angle)\n",
        "              \n",
        "              \n",
        "    grid['row'] = row\n",
        "    grid['col'] = col        \n",
        "    grid['x'] = xvalue\n",
        "    grid['y'] = yvalue\n",
        "    grid['r'] = rvalue\n",
        "    grid['t'] = tvalue\n",
        "\n",
        "\n",
        "    npts = len(grid['x'])\n",
        "    fxyt  = numpy.zeros(npts)   # Take off risk for general method\n",
        "    fxyl  = numpy.zeros(npts)   # Landing risk for general method\n",
        "    fr_ga = numpy.zeros(npts)   # general aviation model\n",
        "\n",
        "    # Calculate the actual crashing risk using the airfield model for one scenario.\n",
        "    for i in range(npts):\n",
        "\n",
        "      xi = grid['x'][i]\n",
        "      yi = grid['y'][i]\n",
        "      ri = grid['r'][i]\n",
        "      ti = grid['t'][i]\n",
        "\n",
        "      # x1 = xi/1000 + Lgrid/2/1000\n",
        "      # y1 = yi/1000 - Lgrid/2/1000\n",
        "      # x2 = xi/1000 - Lgrid/2/1000\n",
        "      # y2 = yi/1000 + Lgrid/2/1000\n",
        "\n",
        "      # General aviation equation.\n",
        "      fr_ga[i] = (0.08*math.exp(-1.0*ri/2.5/1000.0) * math.exp(-1.0*ti/60.0))\n",
        "\n",
        "\n",
        "      if scenario_id == 0:\n",
        "        \n",
        "        x_calc = xi-runwaylength/2\n",
        "        #x_calc = xi\n",
        "        y_calc = yi                                                                 # Right side (larger coordinate side)\n",
        "    \n",
        "      elif scenario_id == 1:\n",
        "        \n",
        "        x_calc = -(xi+runwaylength/2)\n",
        "        #x_calc = xi\n",
        "        y_calc = yi        \n",
        "      \n",
        "      if x_calc >= -600:\n",
        "          fxyt[i] = ((x_calc/1000.0+0.6)/1.44\n",
        "                      * math.exp(-1.0*(x_calc/1000.0+0.6)/1.2)\n",
        "                      * (46.25*math.exp(-0.5*((125.0*y_calc/1000.0)**2.0))/((2.0*math.pi)**0.5)\n",
        "                      + 0.9635*math.exp(-4.1*abs(y_calc/1000.0))\n",
        "                      + 0.08*math.exp(-1.0*abs(y_calc/1000.0))))\n",
        "          # if yi != 0:\n",
        "          #     fxyti[i] = ((((-ct/bt)*(x2+at+ct)*math.exp(-1*(x2+at)/ct))\n",
        "          #                 - ((-ct/bt)*(x1+at+ct)*math.exp(-1*(x1+at)/ct)))\n",
        "          #                 * (dt/125 + (mt/nt)*(math.exp(-1*nt*abs(y1))-math.exp(-1*nt*abs(y2)))\n",
        "          #                 + (pt/qt)*(math.exp(-1*qt*abs(y1))-math.exp(-1*qt*abs(y2)))))\n",
        "          \n",
        "\n",
        "          \n",
        "          \n",
        "      if x_calc >= -3275:\n",
        "          fxyl[i] = ((x_calc/1000.0+3.275)/3.24\n",
        "                      * math.exp(-1.0*(x_calc/1000.0+3.275)/1.8)\n",
        "                      * (56.25*math.exp(-0.5*((125.0*y_calc/1000.0)**2.0))/((2.0*math.pi)**0.5)\n",
        "                      + 0.625*math.exp(-1.0*abs(y_calc/1000.0)/0.4)\n",
        "                      + 0.005*math.exp(-1.0*abs(y_calc/1000.0)/5.0)))\n",
        "          \n",
        "          #fxyl[i] = 0\n",
        "          # if yi != 0:\n",
        "          #     fxyli[i] = ((((-cl/bl)*(x2+al+cl)*math.exp(-1*(x2+al)/cl))      # \n",
        "          #                 - ((-cl/bl)*(x1+al+cl)*math.exp(-1*(x1+al)/cl)))\n",
        "          #                 * (dl/125 + (ml/nl)*(math.exp(-1*nl*abs(y1))-math.exp(-1*nl*abs(y2)))\n",
        "          #                 + (pl/ql)*(math.exp(-1*ql*abs(y1))-math.exp(-1*ql*abs(y2)))))\n",
        "    # if scenario_id == 0:\n",
        "    #   grid['fr_ga'] = fr_ga\n",
        "    #   grid['fxyt']  = fxyt\n",
        "    #   grid['fxyl']  = fxyl   \n",
        "      \n",
        "    # else:\n",
        "    #   grid['fr_ga'] = grid['fr_ga'] + fr_ga\n",
        "    #   grid['fxyt']  = grid['fxyt'] + fxyt\n",
        "    #   grid['fxyl']  = grid['fxyl'] + fxyl      \n",
        "\n",
        "\n",
        "    if scenario_id == 0:\n",
        "\n",
        "      grid['fr_ga'] = fr_ga\n",
        "      grid['fxyt']  = fxyt\n",
        "      grid['fxyl']  = fxyl  \n",
        "    \n",
        "      nm_takeoff_ac = nm_ac * 0.5 * Splitduetowind[0]\n",
        "      nm_land_ac = nm_ac * 0.5 * Splitduetowind[1]\n",
        "      nm_takeoff_r = nm_r * 0.5 * Splitduetowind[0]\n",
        "      nm_land_r = nm_r * 0.5 * Splitduetowind[1]\n",
        "      nm_takeoff_ga = nm_ga * 0.5 * Splitduetowind[0]\n",
        "      nm_land_ga = nm_ga * 0.5 * Splitduetowind[1]\n",
        "      nm_takeoff_m = nm_m * 0.5 * Splitduetowind[0]\n",
        "      nm_land_m = nm_m * 0.5 * Splitduetowind[1]\n",
        "      nm_takeoff_d = nm_d * 0.5 * Splitduetowind[0]\n",
        "      nm_land_d = nm_d * 0.5 * Splitduetowind[1]\n",
        "\n",
        "    elif scenario_id == 1:\n",
        "      \n",
        "      grid['fr_ga'] = grid['fr_ga'] + fr_ga\n",
        "      grid['fxyt']  = grid['fxyt'] + fxyt\n",
        "      grid['fxyl']  = grid['fxyl'] + fxyl   \n",
        "      \n",
        "      nm_takeoff_ac = nm_ac * 0.5 * Splitduetowind[1]\n",
        "      nm_land_ac = nm_ac * 0.5 * Splitduetowind[0]\n",
        "      nm_takeoff_r = nm_r * 0.5 * Splitduetowind[1]\n",
        "      nm_land_r = nm_r * 0.5 * Splitduetowind[0]\n",
        "      nm_takeoff_ga = nm_ga * 0.5 * Splitduetowind[1]\n",
        "      nm_land_ga = nm_ga * 0.5 * Splitduetowind[0]\n",
        "      nm_takeoff_m = nm_m * 0.5 * Splitduetowind[1]\n",
        "      nm_land_m = nm_m * 0.5 * Splitduetowind[0]\n",
        "      nm_takeoff_d = nm_d * 0.5 * Splitduetowind[0]\n",
        "      nm_land_d = nm_d * 0.5 * Splitduetowind[1]\n",
        "    \n",
        "  # calculate airfield crash risk = crash rate x no. movements x f(x,y)/f(r,theta)\n",
        "    af_ac = cr_ac*(nm_takeoff_ac)* fxyt + cr_ac*(nm_land_ac)*fxyl\n",
        "    \n",
        "  # print(nm_takeoff_ga)\n",
        "    \n",
        "    af_r = cr_r*(nm_takeoff_r)* fxyt + cr_r*(nm_land_r)*fxyl\n",
        "    #af_ga = cr_ga*(nm_takeoff_ga)* fxyt + cr_ga*(nm_land_ga)*fxyl\n",
        "\n",
        "    # Use the simplified theta r equation for the general aviation and airtaxi\n",
        "    af_ga = cr_ga*nm_ga*fr_ga\n",
        "    #af_r  = cr_r*nm_r*fr_ga \n",
        "\n",
        "\n",
        "    af_m  = cr_m*(nm_takeoff_m)* fxyt + cr_m*(nm_land_m)*fxyl\n",
        "    #af_m  = cr_m*nm_m*fr_ga\n",
        "    af_h  = 0\n",
        "\n",
        "    af_d  = cr_m*(nm_takeoff_d)* fxyt + cr_m*(nm_land_d)*fxyl\n",
        "\n",
        "\n",
        "    if scenario_id == 0:\n",
        "        \n",
        "      grid['af_ac']  = af_ac\n",
        "      grid['af_r']  = af_r\n",
        "      grid['af_ga']  = af_ga\n",
        "      grid['af_m']  = af_m\n",
        "      grid['af_h']  = af_h\n",
        "      grid['af_d'] = af_d\n",
        "\n",
        "    else:\n",
        "      grid['af_ac']  = grid['af_ac'] + af_ac\n",
        "      grid['af_r']  = grid['af_r'] + af_r\n",
        "      grid['af_ga']  = grid['af_ga'] + af_ga\n",
        "      grid['af_m']  = grid['af_m'] + af_m\n",
        "      grid['af_h']  = grid['af_h'] + af_h\n",
        "      grid['af_d']  = grid['af_d'] + af_d\n",
        "\n",
        "  # calculate total crash risk = airfield crash + background crash. This will be outside the secnario loop as background should only be considered once\n",
        "  tcr_ac = grid['af_ac'] + bcr_ac\n",
        "  tcr_r = grid['af_r'] + bcr_r\n",
        "  tcr_ga = grid['af_ga'] + bcr_ga\n",
        "  tcr_m = grid['af_m'] + bcr_m\n",
        "  tcr_h = grid['af_h'] + bcr_h\n",
        "  tcr_d = grid['af_d'] + bcr_d\n",
        "  tcr = tcr_ac + tcr_r + tcr_ga + tcr_m + tcr_h + tcr_d\n",
        "\n",
        "  # calculate crash risk for typical datacenter\n",
        "  tcr = tcr_ac + tcr_r + tcr_ga + tcr_m + tcr_h                                   # total crash rate (background and airfield) for all aircraft categories (crashes / yr / km2)\n",
        "  tcr_dc = tcr * DC_area                                                          # crash risk at a typical DC (crashes / yr)\n",
        "  tcr_ac_dc = tcr_ac * DC_area                                                    # crash risk from ac only\n",
        "\n",
        "  grid['tcr_ac']  = tcr_ac\n",
        "  grid['tcr_r']  = tcr_r\n",
        "  grid['tcr_ga']  = tcr_ga\n",
        "  grid['tcr_m']  = tcr_m\n",
        "  grid['tcr_h']  = tcr_h\n",
        "  grid['tcr_d']  = tcr_d\n",
        "  grid['tcr']  = tcr\n",
        "  grid['tcr_dc']  = tcr_dc\n",
        "  grid['tcr_ac_dc']  = tcr_ac_dc\n",
        "\n",
        "  # calculate individual fatality = tcr * ia\n",
        "  ir_ac = tcr_ac * ia_ac\n",
        "  ir_r = tcr_r * ia_r\n",
        "  ir_ga = tcr_ga * ia_ga\n",
        "  ir_m = tcr_m * ia_m\n",
        "  ir_h = tcr_h * ia_h\n",
        "  ir_d = tcr_d * ia_d\n",
        "  ir_total = ir_ac + ir_r + ir_ga + ir_m + ir_h + ir_d\n",
        "  max_ir = max(ir_total)\n",
        "  min_ir = min(ir_total)\n",
        "\n",
        "  grid['ir_ac']  = ir_ac\n",
        "  grid['ir_r']   = ir_r\n",
        "  grid['ir_ga']  = ir_ga\n",
        "  grid['ir_m']   = ir_m\n",
        "  grid['ir_h']   = ir_h\n",
        "  grid['ir_d']   = ir_d\n",
        "  grid['ir_total']  = ir_total\n",
        "\n",
        "  # print(grid)\n",
        "\n",
        "  output_x      = numpy.zeros((nrows,ncols))\n",
        "  output_y      = numpy.zeros((nrows,ncols))\n",
        "  output_r      = numpy.zeros((nrows,ncols))\n",
        "  output_t      = numpy.zeros((nrows,ncols))\n",
        "  output_fxyt   = numpy.zeros((nrows,ncols))\n",
        "  output_fxyl   = numpy.zeros((nrows,ncols))\n",
        "  output_fr_ga  = numpy.zeros((nrows,ncols))\n",
        "  # output_fxyti = numpy.zeros((nrows,ncols))\n",
        "  # output_fxyli = numpy.zeros((nrows,ncols))\n",
        "  output_af_ac  = numpy.zeros((nrows,ncols))\n",
        "  output_af_r   = numpy.zeros((nrows,ncols))\n",
        "  output_af_ga  = numpy.zeros((nrows,ncols))\n",
        "  output_af_m   = numpy.zeros((nrows,ncols))\n",
        "  output_af_h   = numpy.zeros((nrows,ncols))\n",
        "  output_af_d   = numpy.zeros((nrows,ncols))\n",
        "  output_ir_ac  = numpy.zeros((nrows,ncols))\n",
        "  output_ir_r   = numpy.zeros((nrows,ncols))\n",
        "  output_ir_ga  = numpy.zeros((nrows,ncols))\n",
        "  output_ir_m   = numpy.zeros((nrows,ncols))\n",
        "  output_ir_h   = numpy.zeros((nrows,ncols))\n",
        "  output_ir_d   = numpy.zeros((nrows,ncols))\n",
        "  output_ir_total  = numpy.zeros((nrows,ncols))\n",
        "  output_tcr_ac = numpy.zeros((nrows,ncols))\n",
        "  output_tcr_r  = numpy.zeros((nrows,ncols))\n",
        "  output_tcr_ga = numpy.zeros((nrows,ncols))\n",
        "  output_tcr_m  = numpy.zeros((nrows,ncols))\n",
        "  output_tcr_h  = numpy.zeros((nrows,ncols))\n",
        "  output_tcr_d  = numpy.zeros((nrows,ncols))\n",
        "  output_tcr    = numpy.zeros((nrows,ncols))\n",
        "  output_tcr_dc = numpy.zeros((nrows,ncols))\n",
        "  output_tcr_ac_dc = numpy.zeros((nrows,ncols))\n",
        "\n",
        "  for i in range(npts):\n",
        "      ii = grid['row'][i]\n",
        "      ji = grid['col'][i]\n",
        "      output_x[ii,ji]     = grid['x'][i]\n",
        "      output_y[ii,ji]     = grid['y'][i]\n",
        "      output_r[ii,ji]     = grid['r'][i]\n",
        "      output_t[ii,ji]     = grid['t'][i]\n",
        "      output_fxyt[ii,ji]  = grid['fxyt'][i]\n",
        "      output_fxyl[ii,ji]  = grid['fxyl'][i]\n",
        "      output_fr_ga[ii,ji] = grid['fr_ga'][i]\n",
        "      output_af_ac[ii,ji] = grid['af_ac'][i]\n",
        "      output_af_r[ii,ji] = grid['af_r'][i]\n",
        "      output_af_ga[ii,ji] = grid['af_ga'][i]\n",
        "      output_af_m[ii,ji] = grid['af_m'][i]\n",
        "      output_af_h[ii,ji] = grid['af_h'][i]\n",
        "      output_af_d[ii,ji] = grid['af_d'][i]\n",
        "      # output_fxyti[ii,ji] = grid['fxyti'][i]\n",
        "      # output_fxyli[ii,ji] = grid['fxyli'][i]\n",
        "      output_ir_ac[ii,ji] = grid['ir_ac'][i]\n",
        "      output_ir_r[ii,ji] = grid['ir_r'][i]\n",
        "      output_ir_ga[ii,ji] = grid['ir_ga'][i]\n",
        "      output_ir_m[ii,ji] = grid['ir_m'][i]\n",
        "      output_ir_h[ii,ji] = grid['ir_h'][i]\n",
        "      output_ir_d[ii,ji] = grid['ir_d'][i]\n",
        "      output_ir_total[ii,ji] = grid['ir_total'][i]\n",
        "      output_tcr_ac[ii,ji] = grid['tcr_ac'][i]\n",
        "      output_tcr_r[ii,ji] = grid['tcr_r'][i]\n",
        "      output_tcr_ga[ii,ji] = grid['tcr_ga'][i]\n",
        "      output_tcr_m[ii,ji] = grid['tcr_m'][i]\n",
        "      output_tcr_h[ii,ji] = grid['tcr_h'][i]\n",
        "      output_tcr_h[ii,ji] = grid['tcr_d'][i]\n",
        "      output_tcr[ii,ji] = grid['tcr'][i]\n",
        "      output_tcr_dc[ii,ji] = grid['tcr_dc'][i]\n",
        "      output_tcr_ac_dc[ii,ji] = grid['tcr_ac_dc'][i]\n",
        "    \n",
        "  # Evaluate crash risk (Z1) and individual risk (Z2)\n",
        "  X = numpy.transpose(output_x)\n",
        "  Y = numpy.transpose(output_y)\n",
        "  Z1 = numpy.transpose(output_tcr_dc)                                           # Total Crash Risk\n",
        "  Z2 = numpy.transpose(output_ir_total)                                         # Total Individual Risk (Fatality)\n",
        "\n",
        "  # Export outputs\n",
        "  if WRITE_FILE == True:\n",
        "    makeDir(index,DATA_PATH)\n",
        "    write2csv(output_r,'(meters)',DATA_PATH+ 'runway_' + str(index) +'/' + 'run_' + str(index) + '_r.csv',ylist,xlist)\n",
        "    write2csv(output_t,'(degrees)',DATA_PATH+ 'runway_' + str(index) +'/' + 'run_' + str(index) + '_theta.csv',ylist,xlist)\n",
        "    write2csv(output_fxyt,'(freq per km2)',DATA_PATH+ 'runway_' + str(index) +'/' + 'run_' + str(index) + '_fxyt.csv',ylist,xlist)\n",
        "    write2csv(output_fxyl,'(freq per km2)',DATA_PATH+ 'runway_' + str(index) +'/' + 'run_' + str(index) + '_fxyl.csv',ylist,xlist)\n",
        "    write2csv(output_fr_ga,'(freq per km2)',DATA_PATH+ 'runway_' + str(index) +'/' + 'run_' + str(index) + '_fr_ga.csv',ylist,xlist)\n",
        "    # write2csv(output_fxyti,'(freq)',subdir+'test_fxyti.csv',ylist,xlist)\n",
        "    # write2csv(output_fxyli,'(freq)',subdir+'test_fxyli.csv',ylist,xlist)\n",
        "    write2csv(output_af_ac,'(crashes per km2)',DATA_PATH+ 'runway_' + str(index) +'/' + 'run_' + str(index) + '_af_ac.csv',ylist,xlist)\n",
        "    write2csv(output_af_r,'(crashes per km2)',DATA_PATH+ 'runway_' + str(index) +'/' + 'run_' + str(index) + '_af_r.csv',ylist,xlist)\n",
        "    write2csv(output_af_ga,'(crashes per km2)',DATA_PATH+ 'runway_' + str(index) +'/' + 'run_' + str(index) + '_af_ga.csv',ylist,xlist)\n",
        "    write2csv(output_af_m,'(crashes per km2)',DATA_PATH+ 'runway_' + str(index) +'/' + 'run_' + str(index) + '_af_m.csv',ylist,xlist)\n",
        "    write2csv(output_af_h,'(crashes per km2)',DATA_PATH+ 'runway_' + str(index) +'/' + 'run_' + str(index) + '_af_h.csv',ylist,xlist)\n",
        "    write2csv(output_af_d,'(crashes per km2)',DATA_PATH+ 'runway_' + str(index) +'/' + 'run_' + str(index) + '_af_d.csv',ylist,xlist)\n",
        "    write2csv(output_tcr_dc,'(crashes per year)',DATA_PATH+ 'runway_' + str(index) +'/' + 'run_' + str(index) + '_tcr_dc.csv',ylist,xlist)\n",
        "    write2csv(output_ir_ac,'(fatalities per year)',DATA_PATH+ 'runway_' + str(index) +'/' + 'run_' + str(index) + '_ir_ac.csv',ylist,xlist)\n",
        "    write2csv(output_ir_r,'(fatalities per year)',DATA_PATH+ 'runway_' + str(index) +'/' + 'run_' + str(index) + '_ir_r.csv',ylist,xlist)\n",
        "    write2csv(output_ir_ga,'(fatalities per year)',DATA_PATH+ 'runway_' + str(index) +'/' + 'run_' + str(index) + '_ir_ga.csv',ylist,xlist)\n",
        "    write2csv(output_ir_m,'(fatalities per year)',DATA_PATH+ 'runway_' + str(index) +'/' + 'run_' + str(index) + '_ir_m.csv',ylist,xlist)\n",
        "    write2csv(output_ir_h,'(fatalities per year)',DATA_PATH+ 'runway_' + str(index) +'/' + 'run_' + str(index) + '_ir_h.csv',ylist,xlist)\n",
        "    write2csv(output_ir_d,'(fatalities per year)',DATA_PATH+ 'runway_' + str(index) +'/' + 'run_' + str(index) + '_ir_d.csv',ylist,xlist)\n",
        "    write2csv(output_ir_total,'(fatalities per year)',DATA_PATH+ 'runway_' + str(index) +'/' + 'run_' + str(index) + '_ir_total.csv',ylist,xlist)\n",
        "\n",
        "  return X, Y, Z1, Z2"
      ],
      "metadata": {
        "id": "6S10bKIR7pRu"
      },
      "execution_count": 59,
      "outputs": []
    },
    {
      "cell_type": "markdown",
      "source": [
        "**MAIN CODE**"
      ],
      "metadata": {
        "id": "WYrOMdtQEIB2"
      }
    },
    {
      "cell_type": "code",
      "source": [
        "## MAIN\n",
        "# ~~~~~~~~~~~~~~~~~~~~~~~~~~~~~~~~~~~~~~~~~~~~~~~~~~~~~~~~~~~~~~~~~~~~~~~~~~~~~~\n",
        "# Establish contour extent\n",
        "xlim, ylim = contourExtent(runwaylength,contour_step,numrunways,angles)\n",
        "\n",
        "if PLOT_ONLY == False: # THIS PART CAN TAKE 30 MINUTES IF MULTIPLE RUNWAYS, MAKE SURE TO CHECK IF PLOT_ONLY FLAG IS PROPERLY CHECKED!\n",
        "  # Initiate first runway\n",
        "  X, Y, crash_risk, indi_risk = calcRisk(nm_ac[0], nm_r[0], nm_ga[0], nm_m[0], nm_d[0], windSplits[0,:], runwaylength[0], DC_area, contour_step, xlim, ylim, WRITE_FILE, DATA_PATH, 1)\n",
        "\n",
        "  # Process other runways\n",
        "  if numrunways > 1:\n",
        "    for i in range(1,numrunways):\n",
        "      empty1, empty2, crash_new, indi_new = calcRisk(nm_ac[i], nm_r[i], nm_ga[i], nm_m[i], nm_d[i], windSplits[i,:], runwaylength[i], DC_area, contour_step, xlim, ylim, WRITE_FILE, DATA_PATH, i+1)\n",
        "      crash_risk = np.append(crash_risk, crash_new, axis = 0)\n",
        "      indi_risk = np.append(indi_risk, indi_new, axis = 0)"
      ],
      "metadata": {
        "id": "GJScheG5u3Qa",
        "colab": {
          "base_uri": "https://localhost:8080/"
        },
        "outputId": "5d6b14e7-91b8-4d80-bf55-f6b32c505379"
      },
      "execution_count": 60,
      "outputs": [
        {
          "output_type": "stream",
          "name": "stdout",
          "text": [
            "/content/drive/MyDrive/Airport Risk/Arlington/output/runway_1\n",
            "run_1_af_ac.csv  run_1_crash.png  run_1_ir_ga.csv     run_1_r.csv\n",
            "run_1_af_d.csv\t run_1_fr_ga.csv  run_1_ir_h.csv      run_1_tcr_dc.csv\n",
            "run_1_af_ga.csv  run_1_fxyl.csv   run_1_ir_m.csv      run_1_theta.csv\n",
            "run_1_af_h.csv\t run_1_fxyt.csv   run_1_IR.png\n",
            "run_1_af_m.csv\t run_1_ir_ac.csv  run_1_ir_r.csv\n",
            "run_1_af_r.csv\t run_1_ir_d.csv   run_1_ir_total.csv\n"
          ]
        }
      ]
    },
    {
      "cell_type": "code",
      "source": [
        "# Plotting Crash Risk Contour Separately\n",
        "for i in range(0,numrunways):\n",
        "  levels = [1e-7,1e-6,2.5e-6,5e-6,7.5e-6,1e-5,2.5e-5,5e-5,7.5e-5,1e-4]\n",
        "  #levels = MaxNLocator(nbins=10).tick_values(1e-8, Z.max())\n",
        "  fig, ax = plt.subplots(figsize=(20,8))\n",
        "  #cs = ax.contourf(X, Y, Z, levels, cmap='jet')\n",
        "  cs = ax.contourf(X, Y, crash_risk[0+X.shape[0]*(i):0+X.shape[0]*(i+1),:], levels, locator=ticker.LogLocator(), cmap='jet')\n",
        "  ax.set_title('Crash Risk; ' + AirportID + '; Runway ' + str(i+1) +'; Grid Spacing = ' +  str(contour_step) + 'm')\n",
        "  #ax.set_aspect('equal')\n",
        "  cbar = fig.colorbar(cs)\n",
        "\n",
        "  if WRITE_FILE == True:\n",
        "    plt.savefig(DATA_PATH+ 'runway_' + str(i+1) +'/' + 'run_' + str(i+1) + '_crash.png')"
      ],
      "metadata": {
        "colab": {
          "base_uri": "https://localhost:8080/",
          "height": 499
        },
        "id": "jnvtV0P9FlEs",
        "outputId": "dd70ac8f-5510-4c1b-8bec-6da1a6cea6c5"
      },
      "execution_count": 64,
      "outputs": [
        {
          "output_type": "display_data",
          "data": {
            "text/plain": [
              "<Figure size 1440x576 with 2 Axes>"
            ],
            "image/png": "[encoded data removed]"
          },
          "metadata": {
            "needs_background": "light"
          }
        }
      ]
    },
    {
      "cell_type": "code",
      "source": [
        "# Plotting Individual Risk Contour Separately\n",
        "for i in range(0,numrunways):\n",
        "  levels = [1e-7,1e-6,2.5e-6,5e-6,7.5e-6,1e-5,2.5e-5,5e-5,7.5e-5,1e-4]\n",
        "  #levels = MaxNLocator(nbins=10).tick_values(1e-8, Z.max())\n",
        "  fig, ax = plt.subplots(figsize=(20,8))\n",
        "  #cs = ax.contourf(X, Y, Z, levels, cmap='jet')\n",
        "  cs = ax.contourf(X, Y, indi_risk[0+X.shape[0]*(i):0+X.shape[0]*(i+1),:], levels, locator=ticker.LogLocator(), cmap='jet')\n",
        "  #ax.set_title('Individual risk; ' + airport_size + ' airport; L = ' +  str(Lgrid) + 'm')\n",
        "  ax.set_title('Individual Risk; ' + AirportID + '; Runway ' + str(i+1) +'; Grid Spacing = ' +  str(contour_step) + 'm')\n",
        "  #ax.set_aspect('equal')\n",
        "  cbar = fig.colorbar(cs)\n",
        "\n",
        "  if WRITE_FILE == True:\n",
        "    plt.savefig(DATA_PATH+ 'runway_' + str(i+1) +'/' + 'run_' + str(i+1) + '_IR.png')"
      ],
      "metadata": {
        "colab": {
          "base_uri": "https://localhost:8080/",
          "height": 499
        },
        "id": "fYb4arBMYdMy",
        "outputId": "f794bd3e-1ff7-416c-aeea-9faad939176c"
      },
      "execution_count": 65,
      "outputs": [
        {
          "output_type": "display_data",
          "data": {
            "text/plain": [
              "<Figure size 1440x576 with 2 Axes>"
            ],
            "image/png": "[encoded data removed]"
          },
          "metadata": {
            "needs_background": "light"
          }
        }
      ]
    },
    {
      "cell_type": "code",
      "source": [
        "# Overlaying and Shifting + Export\n",
        "combined_crash = crash_risk[0+X.shape[0]*(0):0+X.shape[0]*(0+1)].copy()\n",
        "combined_indi  =  indi_risk[0+X.shape[0]*(0):0+X.shape[0]*(0+1)].copy()\n",
        "\n",
        "for i in range(1,numrunways):\n",
        "  overlay_crash = rotate(crash_risk[0+X.shape[0]*(i):0+X.shape[0]*(i+1)], angles[i], reshape=False, order=1, mode='nearest')\n",
        "  overlay_crash = shift(overlay_crash, (yoffset[i]/contour_step, xoffset[i]/contour_step), order=3, mode='nearest', prefilter=True)\n",
        "  overlay_indi  = rotate(indi_risk[0+X.shape[0]*(i):0+X.shape[0]*(i+1)], angles[i], reshape=False, order=1, mode='nearest')\n",
        "  overlay_indi  = shift(overlay_indi, (yoffset[i]/contour_step, xoffset[i]/contour_step), order=3, mode='nearest', prefilter=True)\n",
        "  combined_crash += overlay_crash\n",
        "  combined_indi  += overlay_indi\n",
        "\n",
        "if WRITE_FILE == True:\n",
        "    xlist = list(range(int(-xlim/2),int(xlim/2),contour_step))\n",
        "    ylist = list(range(int(-ylim/2),int(ylim/2),contour_step))\n",
        "    makeDir('combined',DATA_PATH)\n",
        "    write2csv(numpy.transpose(combined_crash), '(crashes per year)', DATA_PATH + 'runway_combined/combined_tcr_dc.csv', ylist, xlist)\n",
        "    write2csv(numpy.transpose(combined_indi), '(fatalities per year)', DATA_PATH + 'runway_combined/combined_ir_total.csv', ylist, xlist)"
      ],
      "metadata": {
        "id": "ctnaGKz8CEhj",
        "colab": {
          "base_uri": "https://localhost:8080/"
        },
        "outputId": "bf9454ed-c614-48ec-bb05-4c748ccd4ada"
      },
      "execution_count": 66,
      "outputs": [
        {
          "output_type": "stream",
          "name": "stdout",
          "text": [
            "/content/drive/MyDrive/Airport Risk/Arlington/output/runway_combined\n",
            "combined__crash.png  combined_ir_total.csv\n",
            "combined__IR.png     combined_tcr_dc.csv\n"
          ]
        }
      ]
    },
    {
      "cell_type": "code",
      "source": [
        "# Plotting Final Overlaid Crash Risk\n",
        "levels = [1e-7,1e-6,2.5e-6, 5e-6, 7.5e-6,1e-5,2.5e-5,5e-5,7.5e-5,1e-4]\n",
        "#levels = MaxNLocator(nbins=10).tick_values(1e-8, Z.max())\n",
        "fig, ax = plt.subplots(figsize=(20,8))\n",
        "#cs = ax.contourf(X, Y, Z, levels, cmap='jet')\n",
        "cs = ax.contourf(X, Y, combined_crash, levels, locator=ticker.LogLocator(), cmap='jet')\n",
        "#ax.set_title('Crash risk; ' + airport_size + ' airport; L = ' +  str(Lgrid) + 'm')\n",
        "ax.set_title('Total Crash Risk; ' + AirportID + '; Runway ' + str(i+1) +'; Grid Spacing = ' +  str(contour_step) + 'm')\n",
        "#ax.set_aspect('equal')\n",
        "cbar = fig.colorbar(cs)\n",
        "plt.ylim(ymax = 4000, ymin = -4000)\n",
        "plt.xlim(xmax = 7000, xmin = -7000)\n",
        "\n",
        "if WRITE_FILE == True:\n",
        "  plt.savefig(DATA_PATH + 'runway_combined/combined__crash.png')"
      ],
      "metadata": {
        "colab": {
          "base_uri": "https://localhost:8080/",
          "height": 499
        },
        "id": "FAIgBMYKGCzh",
        "outputId": "636bf960-8e74-4dfc-8319-f5b1d70c7907"
      },
      "execution_count": 67,
      "outputs": [
        {
          "output_type": "display_data",
          "data": {
            "text/plain": [
              "<Figure size 1440x576 with 2 Axes>"
            ],
            "image/png": "[encoded data removed]"
          },
          "metadata": {
            "needs_background": "light"
          }
        }
      ]
    },
    {
      "cell_type": "code",
      "source": [
        "# Plotting Final Overlayed Individual Risk\n",
        "levels = [1e-7, 1e-6,3.33e-6, 6.67e-6, 1e-5,3.33e-5,6.67e-5,1e-4]\n",
        "#levels = MaxNLocator(nbins=10).tick_values(1e-8, Z.max())\n",
        "fig, ax = plt.subplots(figsize=(20,8))\n",
        "#cs = ax.contourf(X, Y, Z, levels, cmap='jet')\n",
        "cs = ax.contourf(X, Y, combined_indi, levels, locator=ticker.LogLocator(), cmap='jet')\n",
        "#ax.set_title('Individual risk; ' + airport_size + ' airport; L = ' +  str(Lgrid) + 'm')\n",
        "ax.set_title('Total Individual Risk; ' + AirportID + '; Runway ' + str(i+1) +'; Grid Spacing = ' +  str(contour_step) + 'm')\n",
        "#ax.set_aspect('equal')\n",
        "cbar = fig.colorbar(cs)\n",
        "plt.ylim(ymax = 500, ymin = -500)\n",
        "plt.xlim(xmax = 7500, xmin = -7500)\n",
        "\n",
        "if WRITE_FILE == True:\n",
        "  plt.savefig(DATA_PATH + 'runway_combined/combined__IR.png')"
      ],
      "metadata": {
        "colab": {
          "base_uri": "https://localhost:8080/",
          "height": 499
        },
        "id": "X4wMXh6TZGIT",
        "outputId": "2ed377b3-a721-471d-da91-2c546c337893"
      },
      "execution_count": 68,
      "outputs": [
        {
          "output_type": "display_data",
          "data": {
            "text/plain": [
              "<Figure size 1440x576 with 2 Axes>"
            ],
            "image/png": "[encoded data removed]"
          },
          "metadata": {
            "needs_background": "light"
          }
        }
      ]
    }
  ]
}